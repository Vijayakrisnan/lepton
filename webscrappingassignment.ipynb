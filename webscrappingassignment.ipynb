{
  "nbformat": 4,
  "nbformat_minor": 0,
  "metadata": {
    "colab": {
      "provenance": [],
      "authorship_tag": "ABX9TyOhrVH2Hs+Kpm4jaYoQIQJU",
      "include_colab_link": true
    },
    "kernelspec": {
      "name": "python3",
      "display_name": "Python 3"
    },
    "language_info": {
      "name": "python"
    }
  },
  "cells": [
    {
      "cell_type": "markdown",
      "metadata": {
        "id": "view-in-github",
        "colab_type": "text"
      },
      "source": [
        "<a href=\"https://colab.research.google.com/github/Vijayakrisnan/lepton/blob/main/webscrappingassignment.ipynb\" target=\"_parent\"><img src=\"https://colab.research.google.com/assets/colab-badge.svg\" alt=\"Open In Colab\"/></a>"
      ]
    },
    {
      "cell_type": "code",
      "execution_count": 68,
      "metadata": {
        "id": "pZu0Z04YQ2Oe"
      },
      "outputs": [],
      "source": [
        "from bs4 import BeautifulSoup\n",
        "import requests\n",
        "from csv import writer\n",
        "\n",
        "\n"
      ]
    },
    {
      "cell_type": "code",
      "source": [
        "with open('maxstoresinfo.csv' , 'w', encoding='utf8' , newline='') as f:\n",
        "    thewriter = writer(f)\n",
        "    header = ['latitude','longitude','storename','address','phone','timings']\n",
        "    thewriter.writerow(header)\n",
        "    for i in range(1,18):    \n",
        "        url=\"https://stores.maxfashion.in/?page={i}\"\n",
        "        page=requests.get(url)\n",
        "        soup=BeautifulSoup(page.content , 'html.parser')\n",
        "        lists = soup.find_all('div', class_='store-info-box')\n",
        "        for list in lists:\n",
        "            latitude=list.find('input',class_=\"outlet-latitude\")\n",
        "            longitude=list.find('input',class_=\"outlet-longitude\")\n",
        "            name=list.find('li',class_=\"outlet-name\").text\n",
        "            address=list.find('li',class_=\"outlet-address\").text\n",
        "            phone=list.find('li',class_=\"outlet-phone\").text\n",
        "            timings=list.find('li',class_=\"outlet-timings\").text\n",
        "            info = [latitude, longitude, name , address , phone , timings ]\n",
        "            thewriter.writerow(info)"
      ],
      "metadata": {
        "id": "HqpvzbRcZG21"
      },
      "execution_count": 69,
      "outputs": []
    }
  ]
}